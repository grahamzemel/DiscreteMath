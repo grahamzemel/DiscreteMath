{
 "cells": [
  {
   "cell_type": "code",
   "execution_count": 2,
   "metadata": {},
   "outputs": [
    {
     "name": "stdout",
     "output_type": "stream",
     "text": [
      "Encrypted: b'gAAAAABlZ2jaFu7Tp_gcwCtti0P_-_RaseAoe3PtBhroE76MJoPSrhzrYLg4Z2lCV_riv5avLvdq7s5K3hffAgpOfR6Nvcsrrk2hk2mkHG4m2jtB4L5vgdY='\n",
      "Decrypted: b'Hello, Quantum World!'\n"
     ]
    }
   ],
   "source": [
    "from cryptography.fernet import Fernet\n",
    "# Classical Encryption/Decryption\n",
    "def classical_encrypt_decrypt():\n",
    "    # Generate a key\n",
    "    key = Fernet.generate_key()\n",
    "    cipher_suite = Fernet(key)\n",
    "    text = b\"Hello, Quantum World!\"\n",
    "    \n",
    "    # Encrypt the text\n",
    "    encrypted_text = cipher_suite.encrypt(text)\n",
    "    print(f\"Encrypted: {encrypted_text}\")\n",
    "\n",
    "    # Decrypt the text\n",
    "    decrypted_text = cipher_suite.decrypt(encrypted_text)\n",
    "    print(f\"Decrypted: {decrypted_text}\")\n",
    "\n",
    "# Quantum Computing (Simulation)\n",
    "from qiskit import QuantumCircuit, transpile, Aer, assemble\n",
    "from qiskit.visualization import plot_histogram\n",
    "from matplotlib import pyplot as plt\n",
    "\n",
    "def quantum_experiment():\n",
    "    # Create a Quantum Circuit with 2 qubits\n",
    "    circuit = QuantumCircuit(2)\n",
    "    circuit.h(0)\n",
    "    circuit.cx(0, 1)\n",
    "    circuit.measure_all()\n",
    "\n",
    "    # Simulate the circuit\n",
    "    simulator = Aer.get_backend('aer_simulator')\n",
    "    compiled_circuit = transpile(circuit, simulator)\n",
    "    job = simulator.run(compiled_circuit)\n",
    "    result = job.result()\n",
    "    \n",
    "    # Plot the results\n",
    "    counts = result.get_counts(compiled_circuit)\n",
    "    plot_histogram(counts)\n",
    "    plt.show()\n",
    "\n",
    "# Run the experiments\n",
    "classical_encrypt_decrypt()\n",
    "quantum_experiment()\n"
   ]
  },
  {
   "cell_type": "markdown",
   "metadata": {},
   "source": [
    "The provided Python code showcases two distinct aspects: classical encryption/decryption and a basic quantum circuit experiment. Let's break down each part, especially focusing on how the quantum code differs from the classical code in terms of principles and operations.\n",
    "\n",
    "### Classical Encryption/Decryption:\n",
    "- **Key Generation:** A key is generated using `Fernet.generate_key()`. This is a symmetric key, meaning the same key is used for both encryption and decryption.\n",
    "- **Encryption:** The plaintext (`\"Hello, Quantum World!\"`) is encrypted using the generated key. This operation is deterministic - the same key and plaintext will always produce the same ciphertext.\n",
    "- **Decryption:** The encrypted text is decrypted back to the original plaintext using the same key.\n",
    "\n",
    "In classical encryption, operations are deterministic and based on mathematical algorithms that manipulate bits in a predictable manner.\n",
    "\n",
    "### Quantum Circuit Experiment:\n",
    "- **Quantum Circuit Setup:** A `QuantumCircuit` with 2 qubits is created. Unlike classical bits which are either 0 or 1, qubits can be in superpositions of both states.\n",
    "- **Hadamard Gate (H):** The `H` gate is applied to the first qubit. It puts the qubit into a superposition state, where it is equally likely to be measured as 0 or 1. This is a key aspect of quantum computing - the ability to create and manipulate superpositions.\n",
    "- **CNOT Gate (CX):** The `CX` gate (controlled NOT) is applied with the first qubit as the control and the second as the target. It entangles the two qubits, another unique feature of quantum computing. When qubits are entangled, the state of one qubit is directly related to the state of another.\n",
    "- **Measurement:** All qubits are measured, collapsing their superposition states into definite 0s or 1s. The act of measurement in quantum mechanics fundamentally differs from observation in classical mechanics, as it alters the state of the qubit.\n",
    "- **Simulation and Result Visualization:** The quantum circuit is simulated on a classical computer using `Aer.get_backend('aer_simulator')`. The results are visualized using `plot_histogram`, showing the probabilities of measuring different states.\n",
    "\n",
    "### Comparative Aspects:\n",
    "- **Determinism vs Probabilism:** Classical encryption algorithms are deterministic, while quantum algorithms exploit probabilistic nature of quantum states.\n",
    "- **Bits vs Qubits:** Classical encryption works with bits, whereas quantum experiments involve qubits, which can exist in multiple states simultaneously due to superposition.\n",
    "- **Entanglement:** Quantum computing uniquely uses entanglement, where the state of one qubit is dependent on another, an aspect absent in classical computing.\n",
    "- **Computation Model:** Classical algorithms use traditional computation models, whereas quantum experiments leverage quantum mechanics principles, which fundamentally differ in how they process and store information.\n",
    "\n",
    "In summary, while the classical code demonstrates the encryption and decryption process using predefined algorithms, the quantum code illustrates fundamental quantum computing principles like superposition and entanglement, highlighting the stark differences in operation and potential between classical and quantum computing."
   ]
  }
 ],
 "metadata": {
  "kernelspec": {
   "display_name": "Python 3",
   "language": "python",
   "name": "python3"
  },
  "language_info": {
   "codemirror_mode": {
    "name": "ipython",
    "version": 3
   },
   "file_extension": ".py",
   "mimetype": "text/x-python",
   "name": "python",
   "nbconvert_exporter": "python",
   "pygments_lexer": "ipython3",
   "version": "3.9.6"
  }
 },
 "nbformat": 4,
 "nbformat_minor": 2
}
